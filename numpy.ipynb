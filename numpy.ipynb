{
  "nbformat": 4,
  "nbformat_minor": 0,
  "metadata": {
    "colab": {
      "name": "numpy.ipynb",
      "provenance": []
    },
    "kernelspec": {
      "name": "python3",
      "display_name": "Python 3"
    },
    "language_info": {
      "name": "python"
    }
  },
  "cells": [
    {
      "cell_type": "markdown",
      "source": [
        "#LEARNING NUMPY\n",
        "##Numpy\n",
        "###Numpy"
      ],
      "metadata": {
        "id": "11zhcvD_sous"
      }
    },
    {
      "cell_type": "code",
      "source": [
        "import numpy as np #np = numpy"
      ],
      "metadata": {
        "id": "6JyekpHAucWE"
      },
      "execution_count": null,
      "outputs": []
    },
    {
      "cell_type": "code",
      "source": [
        "l1 = [1,2,3]\n",
        "arr1 = np.array(l1) \n",
        "#or arr1 = np.array([1,2,3])\n",
        "#converted list tuple also"
      ],
      "metadata": {
        "id": "xX78lX4sxA5O"
      },
      "execution_count": null,
      "outputs": []
    },
    {
      "cell_type": "code",
      "source": [
        "print(l1)\n",
        "print(arr1)"
      ],
      "metadata": {
        "colab": {
          "base_uri": "https://localhost:8080/"
        },
        "id": "t2FH9ldPxIzX",
        "outputId": "64b7fa12-5b04-40ef-9d63-cdfa5c4eceec"
      },
      "execution_count": null,
      "outputs": [
        {
          "output_type": "stream",
          "name": "stdout",
          "text": [
            "[1, 2, 3]\n",
            "[1 2 3]\n"
          ]
        }
      ]
    },
    {
      "cell_type": "markdown",
      "source": [
        "## 0-D, 1-D, 2-D and so on"
      ],
      "metadata": {
        "id": "6HqnWusuy673"
      }
    },
    {
      "cell_type": "code",
      "source": [
        "zeroD = np.array(3)\n",
        "oneD = np.array([1,2,3])\n",
        "twoD = np.array([[1,2,3],[2,3,4]])"
      ],
      "metadata": {
        "id": "j9Bx-Ippy8Ix"
      },
      "execution_count": null,
      "outputs": []
    },
    {
      "cell_type": "code",
      "source": [
        "print(zeroD)\n",
        "print(oneD)\n",
        "print(twoD)"
      ],
      "metadata": {
        "colab": {
          "base_uri": "https://localhost:8080/"
        },
        "id": "q4EdJGsrzUJC",
        "outputId": "8c903783-eb6e-4ef4-ce07-e7e307ff58ad"
      },
      "execution_count": null,
      "outputs": [
        {
          "output_type": "stream",
          "name": "stdout",
          "text": [
            "3\n",
            "[1 2 3]\n",
            "[[1 2 3]\n",
            " [2 3 4]]\n"
          ]
        }
      ]
    },
    {
      "cell_type": "markdown",
      "source": [
        "###Array indexing"
      ],
      "metadata": {
        "id": "drrlJpEfzn-O"
      }
    },
    {
      "cell_type": "code",
      "source": [
        "arr1 = np.array([5,6,7])\n",
        "print(arr1[2])"
      ],
      "metadata": {
        "colab": {
          "base_uri": "https://localhost:8080/"
        },
        "id": "HYK0-Ac8zqMK",
        "outputId": "4264eb8a-5d2a-42d3-940d-36cc9e63f767"
      },
      "execution_count": null,
      "outputs": [
        {
          "output_type": "stream",
          "name": "stdout",
          "text": [
            "7\n"
          ]
        }
      ]
    },
    {
      "cell_type": "code",
      "source": [
        "l1 = [1,2,3]\n",
        "print(l1[0])"
      ],
      "metadata": {
        "colab": {
          "base_uri": "https://localhost:8080/"
        },
        "id": "wqb8tEyfzwGr",
        "outputId": "5110965d-ae0e-4aee-8581-5163b1d2a8b6"
      },
      "execution_count": null,
      "outputs": [
        {
          "output_type": "stream",
          "name": "stdout",
          "text": [
            "1\n"
          ]
        }
      ]
    },
    {
      "cell_type": "code",
      "source": [
        "twoD = np.array([[1,2,3],[2,3,4],[7,8,9]])\n",
        "print(twoD)"
      ],
      "metadata": {
        "colab": {
          "base_uri": "https://localhost:8080/"
        },
        "id": "BRgpFeQvz8Ct",
        "outputId": "3d6480de-6f8b-4e8e-8bc1-ae94569bd971"
      },
      "execution_count": null,
      "outputs": [
        {
          "output_type": "stream",
          "name": "stdout",
          "text": [
            "[[1 2 3]\n",
            " [2 3 4]\n",
            " [7 8 9]]\n"
          ]
        }
      ]
    },
    {
      "cell_type": "code",
      "source": [
        "print(twoD[0])\n",
        "print(twoD[1])\n",
        "print(twoD[1][2])"
      ],
      "metadata": {
        "colab": {
          "base_uri": "https://localhost:8080/"
        },
        "id": "q-x79GNQ0DFE",
        "outputId": "b87973b4-0efe-4815-fba3-dce7d26bb778"
      },
      "execution_count": null,
      "outputs": [
        {
          "output_type": "stream",
          "name": "stdout",
          "text": [
            "[1 2 3]\n",
            "[2 3 4]\n",
            "4\n"
          ]
        }
      ]
    },
    {
      "cell_type": "markdown",
      "source": [
        "##slicing"
      ],
      "metadata": {
        "id": "7P9l4wkV1WuD"
      }
    },
    {
      "cell_type": "code",
      "source": [
        "arr1 = np.array([5,6,7,8,9,10,11,12])\n",
        "print(arr1)"
      ],
      "metadata": {
        "colab": {
          "base_uri": "https://localhost:8080/"
        },
        "id": "XaCNsu-V0GHK",
        "outputId": "13734c05-4041-4f58-cde3-a5cf270a1499"
      },
      "execution_count": null,
      "outputs": [
        {
          "output_type": "stream",
          "name": "stdout",
          "text": [
            "[ 5  6  7  8  9 10 11 12]\n"
          ]
        }
      ]
    },
    {
      "cell_type": "code",
      "source": [
        "print(arr1[0:3])\n",
        "print(arr1[2:6])"
      ],
      "metadata": {
        "colab": {
          "base_uri": "https://localhost:8080/"
        },
        "id": "TL7Qo-5t1EVC",
        "outputId": "a31ed384-bc87-4c88-c91c-5850d58a6a5e"
      },
      "execution_count": null,
      "outputs": [
        {
          "output_type": "stream",
          "name": "stdout",
          "text": [
            "[5 6 7]\n",
            "[ 7  8  9 10]\n"
          ]
        }
      ]
    },
    {
      "cell_type": "code",
      "source": [
        "arr = np.array([[1,2,3,4,5], [6,7,8,9,10]])\n",
        "print(arr)\n",
        "print(arr[0][2:5])\n",
        "print(arr[1][2:])"
      ],
      "metadata": {
        "colab": {
          "base_uri": "https://localhost:8080/"
        },
        "id": "MaDtwrLT1KVq",
        "outputId": "3094e702-5060-4291-eb3d-9495f8a59ab1"
      },
      "execution_count": null,
      "outputs": [
        {
          "output_type": "stream",
          "name": "stdout",
          "text": [
            "[[ 1  2  3  4  5]\n",
            " [ 6  7  8  9 10]]\n",
            "[3 4 5]\n",
            "[ 8  9 10]\n"
          ]
        }
      ]
    },
    {
      "cell_type": "code",
      "source": [
        "l1 = ['Hello', 5, 4.333, True, False]\n",
        "print(type(l1[0]))\n",
        "l2 = [5,5,4.33,2,2]\n",
        "print(type(l1[0]))"
      ],
      "metadata": {
        "colab": {
          "base_uri": "https://localhost:8080/"
        },
        "id": "AKyQndAe1_TA",
        "outputId": "53558220-370e-4e61-db98-acbda700d173"
      },
      "execution_count": null,
      "outputs": [
        {
          "output_type": "stream",
          "name": "stdout",
          "text": [
            "<class 'str'>\n",
            "<class 'str'>\n"
          ]
        }
      ]
    },
    {
      "cell_type": "code",
      "source": [
        "arr2 = np.array(l1)\n",
        "print(arr2.dtype)\n",
        "arr3 = np.array(l2)\n",
        "print(arr3.dtype)"
      ],
      "metadata": {
        "colab": {
          "base_uri": "https://localhost:8080/"
        },
        "id": "rWdCE_XU3gFA",
        "outputId": "9fb83a32-3e95-4c8d-ec55-d51b93b05a8c"
      },
      "execution_count": null,
      "outputs": [
        {
          "output_type": "stream",
          "name": "stdout",
          "text": [
            "<U5\n",
            "float64\n"
          ]
        }
      ]
    },
    {
      "cell_type": "markdown",
      "source": [
        "##orginal and copied data"
      ],
      "metadata": {
        "id": "MWJgVdT54dEa"
      }
    },
    {
      "cell_type": "code",
      "source": [
        "arr = np.array([1,2,3,4,5])#original data\n",
        "x = arr.copy()              #copy of original data\n",
        "x[0] = 42\n",
        "\n",
        "print(arr)\n",
        "print(x)"
      ],
      "metadata": {
        "colab": {
          "base_uri": "https://localhost:8080/"
        },
        "id": "iUwO6tp73ppA",
        "outputId": "9efbf9a7-3418-45dc-e6ca-dbce275211a5"
      },
      "execution_count": null,
      "outputs": [
        {
          "output_type": "stream",
          "name": "stdout",
          "text": [
            "[1 2 3 4 5]\n",
            "[42  2  3  4  5]\n"
          ]
        }
      ]
    },
    {
      "cell_type": "code",
      "source": [
        "arr = np.array([1,2,3,4,5])#original data\n",
        "x = arr.view()              #copy of original data\n",
        "arr[0] = 42\n",
        "\n",
        "print(arr)\n",
        "print(x)"
      ],
      "metadata": {
        "colab": {
          "base_uri": "https://localhost:8080/"
        },
        "outputId": "d7b786ed-87c8-43cb-a5c9-12217c8e1ae3",
        "id": "VnZWzcv-5Cvy"
      },
      "execution_count": null,
      "outputs": [
        {
          "output_type": "stream",
          "name": "stdout",
          "text": [
            "[42  2  3  4  5]\n",
            "[42  2  3  4  5]\n"
          ]
        }
      ]
    },
    {
      "cell_type": "code",
      "source": [
        "array1 = np.array([[1,2,3],[2,3,4]])\n",
        "print(array1)\n",
        "print(array1.shape)\n",
        "print(array1.ndim)"
      ],
      "metadata": {
        "colab": {
          "base_uri": "https://localhost:8080/"
        },
        "id": "8urc8wb45E7U",
        "outputId": "3c4da58c-fafa-40b4-92c2-906a237f0471"
      },
      "execution_count": null,
      "outputs": [
        {
          "output_type": "stream",
          "name": "stdout",
          "text": [
            "[[1 2 3]\n",
            " [2 3 4]]\n",
            "(2, 3)\n",
            "2\n"
          ]
        }
      ]
    },
    {
      "cell_type": "code",
      "source": [
        "array2 = np.array([1,2,3,4,5,6,7,8,9,10,11,12])\n",
        "\n",
        "newarr = array2.reshape(4,3)\n",
        "\n",
        "print(newarr)"
      ],
      "metadata": {
        "colab": {
          "base_uri": "https://localhost:8080/"
        },
        "id": "1kBwCboH5T8J",
        "outputId": "bddac0a4-4466-4252-fffb-a7d3327efe96"
      },
      "execution_count": null,
      "outputs": [
        {
          "output_type": "stream",
          "name": "stdout",
          "text": [
            "[[ 1  2  3]\n",
            " [ 4  5  6]\n",
            " [ 7  8  9]\n",
            " [10 11 12]]\n"
          ]
        }
      ]
    },
    {
      "cell_type": "code",
      "source": [
        "l1 = [[2,3,4], [5,6,7]]\n",
        "\n",
        "for i in l1:\n",
        "  print(i)"
      ],
      "metadata": {
        "colab": {
          "base_uri": "https://localhost:8080/"
        },
        "id": "lgryNIHs6sJH",
        "outputId": "9fe025ac-3fef-4cb0-da54-00445f5f7fe4"
      },
      "execution_count": null,
      "outputs": [
        {
          "output_type": "stream",
          "name": "stdout",
          "text": [
            "[2, 3, 4]\n",
            "[5, 6, 7]\n"
          ]
        }
      ]
    },
    {
      "cell_type": "code",
      "source": [
        "array1 = np.array(l1)\n",
        "print(array1)"
      ],
      "metadata": {
        "colab": {
          "base_uri": "https://localhost:8080/"
        },
        "id": "DHCJ8_po7aIp",
        "outputId": "c22179b7-d936-410d-e2d8-398fdd118257"
      },
      "execution_count": null,
      "outputs": [
        {
          "output_type": "stream",
          "name": "stdout",
          "text": [
            "[[2 3 4]\n",
            " [5 6 7]]\n"
          ]
        }
      ]
    },
    {
      "cell_type": "code",
      "source": [
        "for i in array1:\n",
        "  for j in i:\n",
        "    print(j)"
      ],
      "metadata": {
        "colab": {
          "base_uri": "https://localhost:8080/"
        },
        "id": "DIeg0CTR7dqm",
        "outputId": "5a480a18-89c3-4327-f5da-10c4d947b81c"
      },
      "execution_count": null,
      "outputs": [
        {
          "output_type": "stream",
          "name": "stdout",
          "text": [
            "2\n",
            "3\n",
            "4\n",
            "5\n",
            "6\n",
            "7\n"
          ]
        }
      ]
    },
    {
      "cell_type": "code",
      "source": [
        "arr1 = np.array([1,2,3])\n",
        "arr2 = np.array([4,5,6])\n",
        "\n",
        "arr = np.concatenate((arr1,arr2))\n",
        "\n",
        "print(arr)"
      ],
      "metadata": {
        "colab": {
          "base_uri": "https://localhost:8080/"
        },
        "id": "zkrbmQSR7iio",
        "outputId": "3550f3bd-9403-4e15-a081-52a5e51e80ed"
      },
      "execution_count": null,
      "outputs": [
        {
          "output_type": "stream",
          "name": "stdout",
          "text": [
            "[1 2 3 4 5 6]\n"
          ]
        }
      ]
    }
  ]
}